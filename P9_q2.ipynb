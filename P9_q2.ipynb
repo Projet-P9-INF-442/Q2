{
 "cells": [
  {
   "cell_type": "markdown",
   "metadata": {},
   "source": [
    "# Partie REGEXP"
   ]
  },
  {
   "cell_type": "code",
   "execution_count": 1,
   "metadata": {},
   "outputs": [],
   "source": [
    "import re\n",
    "import numpy as np\n",
    "import pandas as pd"
   ]
  },
  {
   "cell_type": "code",
   "execution_count": 14,
   "metadata": {},
   "outputs": [],
   "source": [
    "def maj_to_class(str):\n",
    "    labels=[]\n",
    "    for x in re.split('[ .,;?!:]',str):\n",
    "        if x.istitle() and len(x) >= 2:\n",
    "            labels.append((x,1))\n",
    "        else :\n",
    "            labels.append((x,0))\n",
    "    return labels\n",
    "\n",
    "\n",
    "def true_label(str,liste_noms):\n",
    "    true=[]\n",
    "    for x in re.split('[ .,;?!:]',str):\n",
    "        if x in liste_noms:\n",
    "            true.append((x,1))\n",
    "        else:\n",
    "            true.append((x,0))\n",
    "    return true\n",
    "\n",
    "\n",
    "\n",
    "def confusion(pred,true):\n",
    "    assert len(pred)==len(true)\n",
    "    M=[[0,0],[0,0]]\n",
    "    for i in range(len(pred)):\n",
    "        if pred[i][1]==true[i][1] : # VRAI\n",
    "            if true[i][1]==1: #POSITIF\n",
    "                M[1][1]+=1\n",
    "            else : # NEGATIF\n",
    "                M[0][0]+=1\n",
    "\n",
    "        else: # FAUX\n",
    "            if pred[i][1]==0 : # FAUX NEGATIF\n",
    "                M[1][0]+=1\n",
    "            else :  #FAUX POSITIF\n",
    "                M[0][1]+=1\n",
    "    return np.array(M)\n",
    "\n",
    "\n",
    "\n",
    "def metrique(conf): # retourne un dataframe\n",
    "    TN, FP, FN, TP = conf[0][0], conf[0][1], conf[1][0], conf[1][1]\n",
    "    acc=(TP+TN)/(TP+TN+FP+FN)\n",
    "    precision=TP/(TP+FP)\n",
    "    recall=TP/(TP+FN)\n",
    "    f=2*precision*recall/(precision+recall)\n",
    "\n",
    "    df=pd.DataFrame([[acc,precision,recall,f]] , columns=[\"acc\",\"precision\",\"recall\",\"f1-score\"], index=['algo basé sur les majuscules'])\n",
    "    return df"
   ]
  },
  {
   "cell_type": "code",
   "execution_count": 15,
   "metadata": {},
   "outputs": [
    {
     "name": "stdout",
     "output_type": "stream",
     "text": [
      "Il y a 5584 mots dans cet extrait.\n"
     ]
    }
   ],
   "source": [
    "liste_noms=['Oliver', 'Oliver Twist', \"Oliver Twist's\", 'Mann', 'Bumble', 'Susan', 'Devil',\n",
    "            'Gamfield', 'Sowerberry', 'Noah', 'Charley Bates', 'Bet', 'Nancy', 'Sikes', 'William Sikes',\n",
    "            'Fang', 'Bill Sikes', 'Fagin', 'Charley', 'Twist', \"Twist's\", 'Mr', 'Mrs', 'Bates',\n",
    "            'William', 'Bill']\n",
    "\n",
    "# cette liste a été trouvée en s'aidant de Spacy, plus rapide que de lir les 8 pages de texte et de surligner les prénoms\n",
    "\n",
    "a=open(\"oliver2.txt\", \"r\").readlines()\n",
    "str=\"\"\"\"\"\"\n",
    "for x in a:\n",
    "    str+=x\n",
    "    \n",
    "print(\"Il y a {} mots dans cet extrait.\".format(len(str.split())))"
   ]
  },
  {
   "cell_type": "code",
   "execution_count": 16,
   "metadata": {},
   "outputs": [],
   "source": [
    "pred = maj_to_class(str)\n",
    "true = true_label(str,liste_noms)\n",
    "conf=confusion(pred,true)\n",
    "\n",
    "res=metrique(conf)"
   ]
  },
  {
   "cell_type": "code",
   "execution_count": 17,
   "metadata": {},
   "outputs": [
    {
     "name": "stdout",
     "output_type": "stream",
     "text": [
      "Matrice de confusion : \n",
      "\n"
     ]
    },
    {
     "data": {
      "text/html": [
       "<div>\n",
       "<style scoped>\n",
       "    .dataframe tbody tr th:only-of-type {\n",
       "        vertical-align: middle;\n",
       "    }\n",
       "\n",
       "    .dataframe tbody tr th {\n",
       "        vertical-align: top;\n",
       "    }\n",
       "\n",
       "    .dataframe thead th {\n",
       "        text-align: right;\n",
       "    }\n",
       "</style>\n",
       "<table border=\"1\" class=\"dataframe\">\n",
       "  <thead>\n",
       "    <tr style=\"text-align: right;\">\n",
       "      <th></th>\n",
       "      <th>prédit négatif</th>\n",
       "      <th>prédit positif</th>\n",
       "    </tr>\n",
       "  </thead>\n",
       "  <tbody>\n",
       "    <tr>\n",
       "      <th>classe négative</th>\n",
       "      <td>5966</td>\n",
       "      <td>190</td>\n",
       "    </tr>\n",
       "    <tr>\n",
       "      <th>classe positive</th>\n",
       "      <td>1</td>\n",
       "      <td>192</td>\n",
       "    </tr>\n",
       "  </tbody>\n",
       "</table>\n",
       "</div>"
      ],
      "text/plain": [
       "                 prédit négatif  prédit positif\n",
       "classe négative            5966             190\n",
       "classe positive               1             192"
      ]
     },
     "execution_count": 17,
     "metadata": {},
     "output_type": "execute_result"
    }
   ],
   "source": [
    "print(\"Matrice de confusion : \\n\")\n",
    "pd.DataFrame(conf, columns=['prédit négatif','prédit positif'], index=['classe négative','classe positive'])"
   ]
  },
  {
   "cell_type": "markdown",
   "metadata": {},
   "source": [
    "Il est logique que tous les noms propres soient détectés. Par contre beaucoup de premiers mots de phrase, ou de nom de villes ont été enlevés aussi, d'où les performances suivantes:"
   ]
  },
  {
   "cell_type": "code",
   "execution_count": 18,
   "metadata": {},
   "outputs": [
    {
     "data": {
      "text/html": [
       "<div>\n",
       "<style scoped>\n",
       "    .dataframe tbody tr th:only-of-type {\n",
       "        vertical-align: middle;\n",
       "    }\n",
       "\n",
       "    .dataframe tbody tr th {\n",
       "        vertical-align: top;\n",
       "    }\n",
       "\n",
       "    .dataframe thead th {\n",
       "        text-align: right;\n",
       "    }\n",
       "</style>\n",
       "<table border=\"1\" class=\"dataframe\">\n",
       "  <thead>\n",
       "    <tr style=\"text-align: right;\">\n",
       "      <th></th>\n",
       "      <th>acc</th>\n",
       "      <th>precision</th>\n",
       "      <th>recall</th>\n",
       "      <th>f1-score</th>\n",
       "    </tr>\n",
       "  </thead>\n",
       "  <tbody>\n",
       "    <tr>\n",
       "      <th>algo basé sur les majuscules</th>\n",
       "      <td>0.969917</td>\n",
       "      <td>0.502618</td>\n",
       "      <td>0.994819</td>\n",
       "      <td>0.667826</td>\n",
       "    </tr>\n",
       "  </tbody>\n",
       "</table>\n",
       "</div>"
      ],
      "text/plain": [
       "                                   acc  precision    recall  f1-score\n",
       "algo basé sur les majuscules  0.969917   0.502618  0.994819  0.667826"
      ]
     },
     "execution_count": 18,
     "metadata": {},
     "output_type": "execute_result"
    }
   ],
   "source": [
    "res"
   ]
  }
 ],
 "metadata": {
  "kernelspec": {
   "display_name": "Python 3",
   "language": "python",
   "name": "python3"
  },
  "language_info": {
   "codemirror_mode": {
    "name": "ipython",
    "version": 3
   },
   "file_extension": ".py",
   "mimetype": "text/x-python",
   "name": "python",
   "nbconvert_exporter": "python",
   "pygments_lexer": "ipython3",
   "version": "3.7.6"
  }
 },
 "nbformat": 4,
 "nbformat_minor": 4
}
